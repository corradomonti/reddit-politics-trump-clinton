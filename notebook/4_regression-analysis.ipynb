{
 "cells": [
  {
   "cell_type": "code",
   "execution_count": 1,
   "metadata": {},
   "outputs": [],
   "source": [
    "%matplotlib inline\n",
    "\n",
    "from IPython.display import display, HTML\n",
    "import matplotlib.pyplot as plt\n",
    "import numpy as np\n",
    "import pandas as pd\n",
    "import seaborn as sns\n",
    "import sklearn.preprocessing\n",
    "import statsmodels.api as sm\n",
    "import statsmodels.formula.api as smf\n",
    "from tqdm import tqdm_notebook as tqdm\n",
    "\n",
    "from collections import Counter\n",
    "import operator\n",
    "import sys"
   ]
  },
  {
   "cell_type": "code",
   "execution_count": 2,
   "metadata": {},
   "outputs": [],
   "source": [
    "def normalize(series):\n",
    "    return sklearn.preprocessing.quantile_transform(\n",
    "            series.values.reshape(-1, 1), copy=True)"
   ]
  },
  {
   "cell_type": "code",
   "execution_count": 3,
   "metadata": {},
   "outputs": [
    {
     "data": {
      "text/plain": [
       "121046"
      ]
     },
     "execution_count": 3,
     "metadata": {},
     "output_type": "execute_result"
    }
   ],
   "source": [
    "authors_df = pd.read_csv(\"../data/processed/author-label-state.csv.bz2\", index_col=0)\n",
    "\n",
    "authors_df = authors_df.merge(pd.read_csv(\"../data/processed/states-extra.csv\"), how='left')\n",
    "\n",
    "authors_df.columns = [c.replace(' ', '') for c in authors_df.columns]\n",
    "len(authors_df)"
   ]
  },
  {
   "cell_type": "code",
   "execution_count": 4,
   "metadata": {},
   "outputs": [
    {
     "data": {
      "text/plain": [
       "Counter({'R': 110806, 'D': 10240})"
      ]
     },
     "execution_count": 4,
     "metadata": {},
     "output_type": "execute_result"
    }
   ],
   "source": [
    "Counter(authors_df.label)"
   ]
  },
  {
   "cell_type": "code",
   "execution_count": 5,
   "metadata": {},
   "outputs": [],
   "source": [
    "author2label = dict(authors_df[['author', 'label']].values)"
   ]
  },
  {
   "cell_type": "code",
   "execution_count": 6,
   "metadata": {},
   "outputs": [
    {
     "data": {
      "text/html": [
       "<div>\n",
       "<style scoped>\n",
       "    .dataframe tbody tr th:only-of-type {\n",
       "        vertical-align: middle;\n",
       "    }\n",
       "\n",
       "    .dataframe tbody tr th {\n",
       "        vertical-align: top;\n",
       "    }\n",
       "\n",
       "    .dataframe thead th {\n",
       "        text-align: right;\n",
       "    }\n",
       "</style>\n",
       "<table border=\"1\" class=\"dataframe\">\n",
       "  <thead>\n",
       "    <tr style=\"text-align: right;\">\n",
       "      <th></th>\n",
       "      <th>parent</th>\n",
       "      <th>child</th>\n",
       "      <th>sentiment</th>\n",
       "    </tr>\n",
       "  </thead>\n",
       "  <tbody>\n",
       "    <tr>\n",
       "      <th>0</th>\n",
       "      <td>fae83c5c68bc706c</td>\n",
       "      <td>441290880bbb7490</td>\n",
       "      <td>0.0000</td>\n",
       "    </tr>\n",
       "    <tr>\n",
       "      <th>1</th>\n",
       "      <td>ffe92102186d8670</td>\n",
       "      <td>e3f88b3430d253df</td>\n",
       "      <td>0.2732</td>\n",
       "    </tr>\n",
       "    <tr>\n",
       "      <th>2</th>\n",
       "      <td>d4f08edfcca59643</td>\n",
       "      <td>35514c4898239466</td>\n",
       "      <td>0.0000</td>\n",
       "    </tr>\n",
       "    <tr>\n",
       "      <th>3</th>\n",
       "      <td>be5f3b8eb7b8f85c</td>\n",
       "      <td>370cf738e4f3b228</td>\n",
       "      <td>0.7436</td>\n",
       "    </tr>\n",
       "    <tr>\n",
       "      <th>4</th>\n",
       "      <td>be5f3b8eb7b8f85c</td>\n",
       "      <td>7b5fc1d8ece515e5</td>\n",
       "      <td>0.3182</td>\n",
       "    </tr>\n",
       "  </tbody>\n",
       "</table>\n",
       "</div>"
      ],
      "text/plain": [
       "             parent             child  sentiment\n",
       "0  fae83c5c68bc706c  441290880bbb7490     0.0000\n",
       "1  ffe92102186d8670  e3f88b3430d253df     0.2732\n",
       "2  d4f08edfcca59643  35514c4898239466     0.0000\n",
       "3  be5f3b8eb7b8f85c  370cf738e4f3b228     0.7436\n",
       "4  be5f3b8eb7b8f85c  7b5fc1d8ece515e5     0.3182"
      ]
     },
     "execution_count": 6,
     "metadata": {},
     "output_type": "execute_result"
    }
   ],
   "source": [
    "graph_df = pd.read_csv(\n",
    "    \"../data/processed/parent_child_sentiment_edges_politics.csv.bz2\", index_col=0)\n",
    "graph_df.head()"
   ]
  },
  {
   "cell_type": "code",
   "execution_count": 7,
   "metadata": {},
   "outputs": [],
   "source": [
    "graph_df['lparent'] = graph_df.parent.apply(author2label.get)\n",
    "graph_df['lchild'] = graph_df.child.apply(author2label.get)"
   ]
  },
  {
   "cell_type": "code",
   "execution_count": 8,
   "metadata": {},
   "outputs": [
    {
     "data": {
      "text/plain": [
       "(31218, 974563524)"
      ]
     },
     "execution_count": 8,
     "metadata": {},
     "output_type": "execute_result"
    }
   ],
   "source": [
    "authors = set(graph_df.parent) | set(graph_df.child)\n",
    "len(authors), len(authors) ** 2"
   ]
  },
  {
   "cell_type": "code",
   "execution_count": 9,
   "metadata": {},
   "outputs": [
    {
     "data": {
      "text/plain": [
       "716765"
      ]
     },
     "execution_count": 9,
     "metadata": {},
     "output_type": "execute_result"
    }
   ],
   "source": [
    "edges = list(map(tuple, graph_df[['parent', 'child']].values))\n",
    "len(edges)"
   ]
  },
  {
   "cell_type": "code",
   "execution_count": 10,
   "metadata": {},
   "outputs": [
    {
     "data": {
      "text/plain": [
       "Counter({'R': 469713, 'D': 247052})"
      ]
     },
     "execution_count": 10,
     "metadata": {},
     "output_type": "execute_result"
    }
   ],
   "source": [
    "Counter([author2label[c] for p, c in edges])"
   ]
  },
  {
   "cell_type": "code",
   "execution_count": 11,
   "metadata": {},
   "outputs": [
    {
     "name": "stderr",
     "output_type": "stream",
     "text": [
      "/Users/corrado/.conda/lib/python3.7/site-packages/ipykernel_launcher.py:8: TqdmDeprecationWarning: This function will be removed in tqdm==5.0.0\n",
      "Please use `tqdm.notebook.tqdm` instead of `tqdm.tqdm_notebook`\n",
      "  \n"
     ]
    },
    {
     "data": {
      "application/vnd.jupyter.widget-view+json": {
       "model_id": "5ca18149bb384227bc2ad66c0a245318",
       "version_major": 2,
       "version_minor": 0
      },
      "text/plain": [
       "  0%|          | 0/716765 [00:00<?, ?it/s]"
      ]
     },
     "metadata": {},
     "output_type": "display_data"
    },
    {
     "data": {
      "text/plain": [
       "716765"
      ]
     },
     "execution_count": 11,
     "metadata": {},
     "output_type": "execute_result"
    }
   ],
   "source": [
    "#edge-based sampling\n",
    "\n",
    "np.random.seed(123)\n",
    "heads, tails = np.array(edges).T\n",
    "edges_set = set(edges)\n",
    "non_edges = list()\n",
    "num_non_edges = len(edges)\n",
    "pbar = tqdm(total=num_non_edges)\n",
    "while len(non_edges) < num_non_edges:\n",
    "    sample_size = min(2 ** 17, num_non_edges - len(non_edges))\n",
    "    head_samples = np.random.choice(heads, sample_size)\n",
    "    tail_samples = np.random.choice(tails, sample_size)\n",
    "    sample = map(tuple, np.array([head_samples, tail_samples]).T)\n",
    "    new_non_edges = [e for e in sample if e not in edges_set]\n",
    "    non_edges += new_non_edges\n",
    "    pbar.update(len(new_non_edges))\n",
    "pbar.close()\n",
    "del edges_set\n",
    "len(non_edges)\n"
   ]
  },
  {
   "cell_type": "code",
   "execution_count": 12,
   "metadata": {},
   "outputs": [
    {
     "data": {
      "text/plain": [
       "Counter({'R': 476584, 'D': 240181})"
      ]
     },
     "execution_count": 12,
     "metadata": {},
     "output_type": "execute_result"
    }
   ],
   "source": [
    "Counter([author2label[c] for p, c in non_edges])"
   ]
  },
  {
   "cell_type": "code",
   "execution_count": 13,
   "metadata": {},
   "outputs": [
    {
     "name": "stderr",
     "output_type": "stream",
     "text": [
      "/Users/corrado/.conda/lib/python3.7/site-packages/ipykernel_launcher.py:10: TqdmDeprecationWarning: This function will be removed in tqdm==5.0.0\n",
      "Please use `tqdm.notebook.tqdm` instead of `tqdm.tqdm_notebook`\n",
      "  # Remove the CWD from sys.path while we load stuff.\n"
     ]
    },
    {
     "data": {
      "application/vnd.jupyter.widget-view+json": {
       "model_id": "fc30905706ee47099864cc6e1f5c6309",
       "version_major": 2,
       "version_minor": 0
      },
      "text/plain": [
       "Evaluating True examples:   0%|          | 0/716765 [00:00<?, ?it/s]"
      ]
     },
     "metadata": {},
     "output_type": "display_data"
    },
    {
     "data": {
      "application/vnd.jupyter.widget-view+json": {
       "model_id": "adc947b6a5e84ffd92cc3856285c55b4",
       "version_major": 2,
       "version_minor": 0
      },
      "text/plain": [
       "Evaluating False examples:   0%|          | 0/716765 [00:00<?, ?it/s]"
      ]
     },
     "metadata": {},
     "output_type": "display_data"
    }
   ],
   "source": [
    "matrix = np.array([\n",
    "    (\n",
    "        parent,\n",
    "        child,\n",
    "        int(author2label[child] == 'D'),\n",
    "        int(author2label[parent] != author2label[child]),\n",
    "        int(y)\n",
    "    )\n",
    "    for y, examples in [(True, edges), (False, non_edges)]\n",
    "    for parent, child in tqdm(examples, desc=f\"Evaluating {y} examples\")\n",
    "])\n",
    "\n",
    "np.random.seed(123)\n",
    "balanced_examples = pd.DataFrame(np.random.permutation(matrix), columns=[\n",
    "    \"parent\", \"child\", \"dem_author\", \"diff_label\", \"is_link\"\n",
    "])\n",
    "\n",
    "balanced_examples['dem_author'] = balanced_examples.dem_author.astype(np.int64, copy=False)\n",
    "balanced_examples['diff_label'] = balanced_examples.diff_label.astype(np.int64, copy=False)\n",
    "balanced_examples['is_link'] = balanced_examples.is_link.astype(np.int64, copy=False)\n",
    "\n",
    "examples = balanced_examples\n"
   ]
  },
  {
   "cell_type": "code",
   "execution_count": 14,
   "metadata": {},
   "outputs": [
    {
     "data": {
      "text/plain": [
       "dem_author    0.339883\n",
       "diff_label    0.470527\n",
       "is_link       0.500000\n",
       "dtype: float64"
      ]
     },
     "execution_count": 14,
     "metadata": {},
     "output_type": "execute_result"
    }
   ],
   "source": [
    "examples[['dem_author', 'diff_label', 'is_link']].mean()"
   ]
  },
  {
   "cell_type": "code",
   "execution_count": 15,
   "metadata": {},
   "outputs": [],
   "source": [
    "authors_df['clintonShare'] = authors_df.clintonVotes / authors_df.totalVotes\n",
    "authors_df['trumpShare'] = authors_df.trumpVotes / authors_df.totalVotes\n",
    "authors_df['nonvote'] = 1. - (authors_df.trumpVotes + authors_df.clintonVotes) / authors_df.totalVotes"
   ]
  },
  {
   "cell_type": "code",
   "execution_count": 16,
   "metadata": {},
   "outputs": [],
   "source": [
    "authors_df['GiniCoefficient_q'] = normalize(authors_df['GiniCoefficient'])\n",
    "authors_df['income_q'] = normalize(authors_df['income'])\n",
    "authors_df['clintonShare_q'] = normalize(authors_df['clintonShare'])\n",
    "authors_df['trumpShare_q'] = normalize(authors_df['trumpShare'])\n",
    "authors_df['nonvote_q'] = normalize(authors_df['nonvote'])\n",
    "authors_df['with_diploma_q'] = normalize(authors_df['with_diploma'])\n",
    "authors_df['unemployment2016_q'] = normalize(authors_df['unemployment2016'])"
   ]
  },
  {
   "cell_type": "code",
   "execution_count": 17,
   "metadata": {},
   "outputs": [],
   "source": [
    "scores = pd.read_csv(\n",
    "        \"../data/processed/scores-of-authors-in-politics-from-author-label-state.csv.bz2\")\n",
    "\n",
    "scores['frac_pos'] = scores.num_comm_pos / scores.num_comm\n",
    "\n",
    "scores['num_comm_q'] = normalize(scores['num_comm'])\n",
    "scores['avg_score_q'] = normalize(scores['avg_score'])\n",
    "scores['frac_pos_q'] = normalize(scores['frac_pos'])"
   ]
  },
  {
   "cell_type": "code",
   "execution_count": 18,
   "metadata": {},
   "outputs": [],
   "source": [
    "dataset = (examples\n",
    "           .merge(authors_df, left_on='child', right_on='author', how='left')\n",
    "           .drop(columns=['author'])\n",
    "           .merge(authors_df[['author', 'state']].rename(columns={'state': 'state_parent'}),\n",
    "                  left_on='parent', right_on='author', how='left')\n",
    "           .drop(columns=['author'])\n",
    "           .merge(scores[['author', 'num_comm_q', 'avg_score_q', 'frac_pos_q']],\n",
    "               left_on='child', right_on='author', how='left')\n",
    "           .merge(scores[['author', 'num_comm_q', 'avg_score_q', 'frac_pos_q']],\n",
    "               left_on='parent', right_on='author', how='left', suffixes=['_c', '_p'])\n",
    "           .drop(columns=['author_c', 'author_p', 'parent', 'child', 'label'])\n",
    ")\n",
    "\n",
    "dataset['same_state'] = (dataset.state == dataset.state_parent).astype(np.float64)\n",
    "dataset = dataset.drop(columns=['state', 'state_parent'])"
   ]
  },
  {
   "cell_type": "code",
   "execution_count": 19,
   "metadata": {},
   "outputs": [],
   "source": [
    "dataset['diff_avg_score_q'] = np.abs(dataset['avg_score_q_c'] - dataset['avg_score_q_p'])\n",
    "dataset['diff_frac_pos_q'] = np.abs(dataset['frac_pos_q_c'] - dataset['frac_pos_q_p'])\n",
    "dataset['diff_num_comm_q'] = np.abs(dataset['num_comm_q_c'] - dataset['num_comm_q_p'])"
   ]
  },
  {
   "cell_type": "code",
   "execution_count": 20,
   "metadata": {},
   "outputs": [],
   "source": [
    "\n",
    "pvalue2asterisk = lambda x: '***' if x < 0.001 else '*' if x < 0.05 else ''\n",
    "    \n",
    "def add_results_to_table(res, df=None):\n",
    "#     main_stat = pd.Series('{:.5f}'.format(res.prsquared), index=['Pseudo-$R^2$'])\n",
    "    main_stat = pd.Series([res.aic], index=['AIC'])\n",
    "    logits = np.exp(res.params)\n",
    "#     logits = res.tvalues # Which actually is Z values\n",
    "    r = pd.concat([res.pvalues, logits], axis=1)\n",
    "    new_row = r.transpose().apply(lambda x: '{:.3f}'.format(x[1]) + pvalue2asterisk(x[0]))\n",
    "    new_row = pd.concat([main_stat, new_row])\n",
    "    if df is None:\n",
    "        return pd.DataFrame([new_row])\n",
    "    else:\n",
    "        return df.append(new_row, ignore_index=True)"
   ]
  },
  {
   "cell_type": "code",
   "execution_count": 21,
   "metadata": {},
   "outputs": [
    {
     "name": "stdout",
     "output_type": "stream",
     "text": [
      "Optimization terminated successfully.\n",
      "         Current function value: 0.691976\n",
      "         Iterations 3\n"
     ]
    }
   ],
   "source": [
    "base_formula = \"is_link ~ dem_author + diff_label + dem_author*diff_label\"\n",
    "res = smf.logit(formula=base_formula,\n",
    "               data=dataset.astype(np.float64)).fit()\n",
    "\n",
    "df = add_results_to_table(res)"
   ]
  },
  {
   "cell_type": "code",
   "execution_count": 22,
   "metadata": {},
   "outputs": [
    {
     "data": {
      "text/html": [
       "<div>\n",
       "<style scoped>\n",
       "    .dataframe tbody tr th:only-of-type {\n",
       "        vertical-align: middle;\n",
       "    }\n",
       "\n",
       "    .dataframe tbody tr th {\n",
       "        vertical-align: top;\n",
       "    }\n",
       "\n",
       "    .dataframe thead th {\n",
       "        text-align: right;\n",
       "    }\n",
       "</style>\n",
       "<table border=\"1\" class=\"dataframe\">\n",
       "  <thead>\n",
       "    <tr style=\"text-align: right;\">\n",
       "      <th></th>\n",
       "      <th></th>\n",
       "      <th>Odds ratio</th>\n",
       "    </tr>\n",
       "    <tr>\n",
       "      <th>child</th>\n",
       "      <th>parent</th>\n",
       "      <th></th>\n",
       "    </tr>\n",
       "  </thead>\n",
       "  <tbody>\n",
       "    <tr>\n",
       "      <th rowspan=\"2\" valign=\"top\">C</th>\n",
       "      <th>C</th>\n",
       "      <td>0.871095</td>\n",
       "    </tr>\n",
       "    <tr>\n",
       "      <th>T</th>\n",
       "      <td>1.107465</td>\n",
       "    </tr>\n",
       "    <tr>\n",
       "      <th rowspan=\"2\" valign=\"top\">T</th>\n",
       "      <th>C</th>\n",
       "      <td>1.105292</td>\n",
       "    </tr>\n",
       "    <tr>\n",
       "      <th>T</th>\n",
       "      <td>0.924984</td>\n",
       "    </tr>\n",
       "  </tbody>\n",
       "</table>\n",
       "</div>"
      ],
      "text/plain": [
       "              Odds ratio\n",
       "child parent            \n",
       "C     C         0.871095\n",
       "      T         1.107465\n",
       "T     C         1.105292\n",
       "      T         0.924984"
      ]
     },
     "execution_count": 22,
     "metadata": {},
     "output_type": "execute_result"
    }
   ],
   "source": [
    "coef_int, coef_dem, coef_diff, coef_dem_diff = res.params.values\n",
    "matrix_index = pd.MultiIndex.from_tuples(\n",
    "    [('C', 'C'), ('C', 'T'), ('T', 'C'), ('T', 'T')],\n",
    "    names=['child', 'parent'])\n",
    "base_matrix = np.exp(pd.DataFrame(index=matrix_index, columns=['Odds ratio'], data=[\n",
    "    coef_int + coef_dem,\n",
    "    coef_int + coef_dem + coef_diff + coef_dem_diff,\n",
    "    coef_int + coef_diff,\n",
    "    coef_int\n",
    "]))\n",
    "base_matrix"
   ]
  },
  {
   "cell_type": "code",
   "execution_count": 23,
   "metadata": {},
   "outputs": [],
   "source": [
    "with open(\"../logit-matrix.tex\", \"w\") as f:\n",
    "    f.write(\n",
    "r\"\"\"\\bordermatrix{ & T & C \\cr\n",
    "      T & %.3f & %.3f \\cr\n",
    "      C & %.3f & %.3f  } \n",
    "\"\"\" % (base_matrix.loc[('T', 'T')], base_matrix.loc[('T', 'C')],\n",
    "       base_matrix.loc[('C', 'T')], base_matrix.loc[('C', 'C')])    \n",
    ")"
   ]
  },
  {
   "cell_type": "code",
   "execution_count": 24,
   "metadata": {},
   "outputs": [
    {
     "name": "stderr",
     "output_type": "stream",
     "text": [
      "/Users/corrado/.conda/lib/python3.7/site-packages/ipykernel_launcher.py:2: TqdmDeprecationWarning: This function will be removed in tqdm==5.0.0\n",
      "Please use `tqdm.notebook.tqdm` instead of `tqdm.tqdm_notebook`\n",
      "  \n"
     ]
    },
    {
     "data": {
      "application/vnd.jupyter.widget-view+json": {
       "model_id": "c1bc95c113be43deb3f8a96764480d71",
       "version_major": 2,
       "version_minor": 0
      },
      "text/plain": [
       "  0%|          | 0/2 [00:00<?, ?it/s]"
      ]
     },
     "metadata": {},
     "output_type": "display_data"
    },
    {
     "name": "stdout",
     "output_type": "stream",
     "text": [
      "Optimization terminated successfully.\n",
      "         Current function value: 0.691734\n",
      "         Iterations 4\n",
      "Optimization terminated successfully.\n",
      "         Current function value: 0.691213\n",
      "         Iterations 4\n"
     ]
    }
   ],
   "source": [
    "other_reddit_variables = [\"avg_score_q\", \"frac_pos_q\"]\n",
    "for variable in tqdm(other_reddit_variables):\n",
    "    res = smf.logit(formula=base_formula + f\" + {variable}_c + {variable}_p + diff_{variable}\",\n",
    "                   data=dataset.astype(np.float64)).fit()\n",
    "#     display(res.summary())\n",
    "    df = add_results_to_table(res, df)"
   ]
  },
  {
   "cell_type": "code",
   "execution_count": 25,
   "metadata": {},
   "outputs": [],
   "source": [
    "full_reddit_variables = \"\".join([f\" + {variable}_c + {variable}_p + diff_{variable}\"\n",
    "                           for variable in other_reddit_variables])"
   ]
  },
  {
   "cell_type": "code",
   "execution_count": 26,
   "metadata": {},
   "outputs": [
    {
     "name": "stdout",
     "output_type": "stream",
     "text": [
      "Optimization terminated successfully.\n",
      "         Current function value: 0.690939\n",
      "         Iterations 4\n"
     ]
    }
   ],
   "source": [
    "res = smf.logit(formula=base_formula + full_reddit_variables,\n",
    "               data=dataset.astype(np.float64)).fit()\n",
    "# display(res.summary())\n",
    "df = add_results_to_table(res, df)"
   ]
  },
  {
   "cell_type": "code",
   "execution_count": 27,
   "metadata": {},
   "outputs": [],
   "source": [
    "variable_rename = {\n",
    "    'dem_author': 'Clinton sup.',\n",
    "    'diff_label': 'Cross-group',\n",
    "    'avg_score_q': 'Avg. score',\n",
    "    'frac_pos_q': 'Frac. positive',\n",
    "    'num_comm_q': 'No. comments',\n",
    "    'same_state': 'Same state',\n",
    "    'swing': 'Swing state',\n",
    "    'clintonShare_q': 'Clinton share',\n",
    "    'trumpShare_q': 'Trump share',\n",
    "    'nonvote_q': 'Non-vote share',\n",
    "    'unemployment2016_q': 'Unemployment',\n",
    "    'GiniCoefficient_q': 'Gini Coefficient',\n",
    "    'income_q': 'Median Income',\n",
    "    'with_diploma_q': 'High school'\n",
    "}\n",
    "\n",
    "def rename(x):\n",
    "    if ':' in x:\n",
    "        return ', '.join(map(rename, x.split(':')))\n",
    "    if x in variable_rename:\n",
    "        return variable_rename[x]\n",
    "    if x[:-2] in variable_rename:\n",
    "        return variable_rename[x[:-2]] + (\" (author)\" if x[-2:] == '_c' else \" (target)\")\n",
    "    if x[:5] == 'diff_':\n",
    "        return \"Diff. \" + rename(x[5:]).lower()\n",
    "    return x\n"
   ]
  },
  {
   "cell_type": "code",
   "execution_count": 28,
   "metadata": {},
   "outputs": [],
   "source": [
    "base_AIC = df.AIC[0]"
   ]
  },
  {
   "cell_type": "code",
   "execution_count": 29,
   "metadata": {},
   "outputs": [],
   "source": [
    "df['$\\Delta$ AIC'] = base_AIC - df.AIC"
   ]
  },
  {
   "cell_type": "code",
   "execution_count": 30,
   "metadata": {},
   "outputs": [
    {
     "data": {
      "text/html": [
       "<div>\n",
       "<style scoped>\n",
       "    .dataframe tbody tr th:only-of-type {\n",
       "        vertical-align: middle;\n",
       "    }\n",
       "\n",
       "    .dataframe tbody tr th {\n",
       "        vertical-align: top;\n",
       "    }\n",
       "\n",
       "    .dataframe thead th {\n",
       "        text-align: right;\n",
       "    }\n",
       "</style>\n",
       "<table border=\"1\" class=\"dataframe\">\n",
       "  <thead>\n",
       "    <tr style=\"text-align: right;\">\n",
       "      <th></th>\n",
       "      <th>0</th>\n",
       "      <th>1</th>\n",
       "      <th>2</th>\n",
       "      <th>3</th>\n",
       "    </tr>\n",
       "  </thead>\n",
       "  <tbody>\n",
       "    <tr>\n",
       "      <th>Clinton sup.</th>\n",
       "      <td>0.942***</td>\n",
       "      <td>0.918***</td>\n",
       "      <td>0.936***</td>\n",
       "      <td>0.911***</td>\n",
       "    </tr>\n",
       "    <tr>\n",
       "      <th>Cross-group</th>\n",
       "      <td>1.195***</td>\n",
       "      <td>1.172***</td>\n",
       "      <td>1.191***</td>\n",
       "      <td>1.165***</td>\n",
       "    </tr>\n",
       "    <tr>\n",
       "      <th>Clinton sup., Cross-group</th>\n",
       "      <td>1.064***</td>\n",
       "      <td>1.091***</td>\n",
       "      <td>1.070***</td>\n",
       "      <td>1.102***</td>\n",
       "    </tr>\n",
       "    <tr>\n",
       "      <th>Avg. score (author)</th>\n",
       "      <td></td>\n",
       "      <td>1.166***</td>\n",
       "      <td></td>\n",
       "      <td>1.174***</td>\n",
       "    </tr>\n",
       "    <tr>\n",
       "      <th>Avg. score (target)</th>\n",
       "      <td></td>\n",
       "      <td>1.151***</td>\n",
       "      <td></td>\n",
       "      <td>1.167***</td>\n",
       "    </tr>\n",
       "    <tr>\n",
       "      <th>Diff. avg. score</th>\n",
       "      <td></td>\n",
       "      <td>1.213***</td>\n",
       "      <td></td>\n",
       "      <td>1.228***</td>\n",
       "    </tr>\n",
       "    <tr>\n",
       "      <th>Diff. frac. positive</th>\n",
       "      <td></td>\n",
       "      <td></td>\n",
       "      <td>0.497***</td>\n",
       "      <td>0.498***</td>\n",
       "    </tr>\n",
       "    <tr>\n",
       "      <th>Frac. positive (author)</th>\n",
       "      <td></td>\n",
       "      <td></td>\n",
       "      <td>1.260***</td>\n",
       "      <td>1.247***</td>\n",
       "    </tr>\n",
       "    <tr>\n",
       "      <th>Frac. positive (target)</th>\n",
       "      <td></td>\n",
       "      <td></td>\n",
       "      <td>1.221***</td>\n",
       "      <td>1.195***</td>\n",
       "    </tr>\n",
       "    <tr>\n",
       "      <th>$\\Delta$ AIC</th>\n",
       "      <td>0</td>\n",
       "      <td>686.799</td>\n",
       "      <td>2179.77</td>\n",
       "      <td>2960.21</td>\n",
       "    </tr>\n",
       "  </tbody>\n",
       "</table>\n",
       "</div>"
      ],
      "text/plain": [
       "                                  0         1         2         3\n",
       "Clinton sup.               0.942***  0.918***  0.936***  0.911***\n",
       "Cross-group                1.195***  1.172***  1.191***  1.165***\n",
       "Clinton sup., Cross-group  1.064***  1.091***  1.070***  1.102***\n",
       "Avg. score (author)                  1.166***            1.174***\n",
       "Avg. score (target)                  1.151***            1.167***\n",
       "Diff. avg. score                     1.213***            1.228***\n",
       "Diff. frac. positive                           0.497***  0.498***\n",
       "Frac. positive (author)                        1.260***  1.247***\n",
       "Frac. positive (target)                        1.221***  1.195***\n",
       "$\\Delta$ AIC                      0   686.799   2179.77   2960.21"
      ]
     },
     "execution_count": 30,
     "metadata": {},
     "output_type": "execute_result"
    }
   ],
   "source": [
    "table1 = df[df.columns[2:]].rename(columns={k: rename(k) for k in df.columns}).transpose().fillna('')\n",
    "table1"
   ]
  },
  {
   "cell_type": "code",
   "execution_count": 31,
   "metadata": {},
   "outputs": [],
   "source": [
    "with open(\"../logit-table-reddit.tex\", \"w\") as f:\n",
    "    latex = table1.to_latex(header=False, escape=False).replace(r\"\\toprule\", r\"\"\"\n",
    "\\toprule\n",
    "Variable name &  \\multicolumn{%d}{c}{Odds ratios. * $p < 0.05$, *** $p < 0.001$} \\\\\n",
    "\\midrule\n",
    "    \"\"\" % len(table1.columns)).replace(\"$\\Delta$\", r\"\\midrule $\\Delta$\")\n",
    "    f.write(latex)"
   ]
  },
  {
   "cell_type": "code",
   "execution_count": 32,
   "metadata": {
    "scrolled": false
   },
   "outputs": [
    {
     "name": "stderr",
     "output_type": "stream",
     "text": [
      "/Users/corrado/.conda/lib/python3.7/site-packages/ipykernel_launcher.py:14: TqdmDeprecationWarning: This function will be removed in tqdm==5.0.0\n",
      "Please use `tqdm.notebook.tqdm` instead of `tqdm.tqdm_notebook`\n",
      "  \n"
     ]
    },
    {
     "data": {
      "application/vnd.jupyter.widget-view+json": {
       "model_id": "3bc095709639450284a4ecdf54e87976",
       "version_major": 2,
       "version_minor": 0
      },
      "text/plain": [
       "  0%|          | 0/9 [00:00<?, ?it/s]"
      ]
     },
     "metadata": {},
     "output_type": "display_data"
    },
    {
     "name": "stdout",
     "output_type": "stream",
     "text": [
      "Optimization terminated successfully.\n",
      "         Current function value: 0.690843\n",
      "         Iterations 4\n",
      "Optimization terminated successfully.\n",
      "         Current function value: 0.690869\n",
      "         Iterations 4\n",
      "Optimization terminated successfully.\n",
      "         Current function value: 0.690737\n",
      "         Iterations 4\n",
      "Optimization terminated successfully.\n",
      "         Current function value: 0.690867\n",
      "         Iterations 4\n",
      "Optimization terminated successfully.\n",
      "         Current function value: 0.690738\n",
      "         Iterations 4\n",
      "Optimization terminated successfully.\n",
      "         Current function value: 0.690866\n",
      "         Iterations 4\n",
      "Optimization terminated successfully.\n",
      "         Current function value: 0.690737\n",
      "         Iterations 4\n",
      "Optimization terminated successfully.\n",
      "         Current function value: 0.690866\n",
      "         Iterations 4\n",
      "Optimization terminated successfully.\n",
      "         Current function value: 0.690734\n",
      "         Iterations 4\n",
      "Optimization terminated successfully.\n",
      "         Current function value: 0.690869\n",
      "         Iterations 4\n",
      "Optimization terminated successfully.\n",
      "         Current function value: 0.690740\n",
      "         Iterations 4\n",
      "Optimization terminated successfully.\n",
      "         Current function value: 0.690869\n",
      "         Iterations 4\n",
      "Optimization terminated successfully.\n",
      "         Current function value: 0.690741\n",
      "         Iterations 4\n",
      "Optimization terminated successfully.\n",
      "         Current function value: 0.690860\n",
      "         Iterations 4\n",
      "Optimization terminated successfully.\n",
      "         Current function value: 0.690731\n",
      "         Iterations 4\n",
      "Optimization terminated successfully.\n",
      "         Current function value: 0.690872\n",
      "         Iterations 4\n",
      "Optimization terminated successfully.\n",
      "         Current function value: 0.690742\n",
      "         Iterations 4\n"
     ]
    }
   ],
   "source": [
    "real_variables = [\n",
    "     'same_state',\n",
    "     'swing',\n",
    "     'clintonShare_q',\n",
    "     'trumpShare_q',\n",
    "     'nonvote_q',\n",
    "     'unemployment2016_q',\n",
    "     'GiniCoefficient_q',\n",
    "     'income_q',\n",
    "     'with_diploma_q',\n",
    "]\n",
    "\n",
    "df = None\n",
    "for variable in tqdm(real_variables):\n",
    "    res = smf.logit(formula=(base_formula + full_reddit_variables +\n",
    "                    f\" + {variable} + {variable}*diff_label\"),\n",
    "               data=dataset.astype(np.float64)).fit()\n",
    "    if variable == 'same_state':\n",
    "        df = add_results_to_table(res, df)\n",
    "    else:\n",
    "        res = smf.logit(formula=(base_formula + full_reddit_variables +\n",
    "                    f\" + same_state + same_state*diff_label + {variable} + {variable}*diff_label\"),\n",
    "               data=dataset.astype(np.float64)).fit()\n",
    "        df = add_results_to_table(res, df)"
   ]
  },
  {
   "cell_type": "code",
   "execution_count": 33,
   "metadata": {},
   "outputs": [],
   "source": [
    "table2 = df[df.columns[2:]].rename(columns={k: rename(k) for k in df.columns}).transpose().fillna('')"
   ]
  },
  {
   "cell_type": "code",
   "execution_count": 34,
   "metadata": {},
   "outputs": [],
   "source": [
    "with open(\"../logit-table-realworld.tex\", \"w\") as f:\n",
    "    latex = table2.to_latex(header=False, escape=False).replace(r\"\\toprule\", r\"\"\"\n",
    "\\toprule\n",
    "Variable name &  \\multicolumn{%d}{c}{Odds ratios. * $p < 0.05$, *** $p < 0.001$} \\\\\n",
    "\\midrule\n",
    "    \"\"\" % len(table2.columns)).replace(\"$\\Delta$\", r\"\\midrule $\\Delta$\")\n",
    "    f.write(latex)"
   ]
  },
  {
   "cell_type": "code",
   "execution_count": 35,
   "metadata": {},
   "outputs": [
    {
     "data": {
      "text/html": [
       "<div>\n",
       "<style scoped>\n",
       "    .dataframe tbody tr th:only-of-type {\n",
       "        vertical-align: middle;\n",
       "    }\n",
       "\n",
       "    .dataframe tbody tr th {\n",
       "        vertical-align: top;\n",
       "    }\n",
       "\n",
       "    .dataframe thead th {\n",
       "        text-align: right;\n",
       "    }\n",
       "</style>\n",
       "<table border=\"1\" class=\"dataframe\">\n",
       "  <thead>\n",
       "    <tr style=\"text-align: right;\">\n",
       "      <th></th>\n",
       "      <th>0</th>\n",
       "      <th>1</th>\n",
       "      <th>2</th>\n",
       "      <th>3</th>\n",
       "      <th>4</th>\n",
       "      <th>5</th>\n",
       "      <th>6</th>\n",
       "      <th>7</th>\n",
       "      <th>8</th>\n",
       "    </tr>\n",
       "  </thead>\n",
       "  <tbody>\n",
       "    <tr>\n",
       "      <th>Clinton sup.</th>\n",
       "      <td>0.909***</td>\n",
       "      <td>0.884***</td>\n",
       "      <td>0.883***</td>\n",
       "      <td>0.883***</td>\n",
       "      <td>0.883***</td>\n",
       "      <td>0.884***</td>\n",
       "      <td>0.883***</td>\n",
       "      <td>0.883***</td>\n",
       "      <td>0.884***</td>\n",
       "    </tr>\n",
       "    <tr>\n",
       "      <th>Cross-group</th>\n",
       "      <td>1.172***</td>\n",
       "      <td>1.156***</td>\n",
       "      <td>1.134***</td>\n",
       "      <td>1.166***</td>\n",
       "      <td>1.117***</td>\n",
       "      <td>1.162***</td>\n",
       "      <td>1.163***</td>\n",
       "      <td>1.122***</td>\n",
       "      <td>1.145***</td>\n",
       "    </tr>\n",
       "    <tr>\n",
       "      <th>Clinton sup., Cross-group</th>\n",
       "      <td>1.104***</td>\n",
       "      <td>1.162***</td>\n",
       "      <td>1.163***</td>\n",
       "      <td>1.162***</td>\n",
       "      <td>1.165***</td>\n",
       "      <td>1.164***</td>\n",
       "      <td>1.165***</td>\n",
       "      <td>1.162***</td>\n",
       "      <td>1.164***</td>\n",
       "    </tr>\n",
       "    <tr>\n",
       "      <th>Avg. score (author)</th>\n",
       "      <td>1.176***</td>\n",
       "      <td>1.174***</td>\n",
       "      <td>1.175***</td>\n",
       "      <td>1.175***</td>\n",
       "      <td>1.175***</td>\n",
       "      <td>1.174***</td>\n",
       "      <td>1.174***</td>\n",
       "      <td>1.174***</td>\n",
       "      <td>1.173***</td>\n",
       "    </tr>\n",
       "    <tr>\n",
       "      <th>Avg. score (target)</th>\n",
       "      <td>1.169***</td>\n",
       "      <td>1.151***</td>\n",
       "      <td>1.151***</td>\n",
       "      <td>1.151***</td>\n",
       "      <td>1.151***</td>\n",
       "      <td>1.151***</td>\n",
       "      <td>1.151***</td>\n",
       "      <td>1.151***</td>\n",
       "      <td>1.151***</td>\n",
       "    </tr>\n",
       "    <tr>\n",
       "      <th>Diff. avg. score</th>\n",
       "      <td>1.232***</td>\n",
       "      <td>1.208***</td>\n",
       "      <td>1.209***</td>\n",
       "      <td>1.209***</td>\n",
       "      <td>1.210***</td>\n",
       "      <td>1.209***</td>\n",
       "      <td>1.209***</td>\n",
       "      <td>1.209***</td>\n",
       "      <td>1.209***</td>\n",
       "    </tr>\n",
       "    <tr>\n",
       "      <th>Frac. positive (author)</th>\n",
       "      <td>1.243***</td>\n",
       "      <td>1.208***</td>\n",
       "      <td>1.211***</td>\n",
       "      <td>1.211***</td>\n",
       "      <td>1.207***</td>\n",
       "      <td>1.209***</td>\n",
       "      <td>1.207***</td>\n",
       "      <td>1.212***</td>\n",
       "      <td>1.208***</td>\n",
       "    </tr>\n",
       "    <tr>\n",
       "      <th>Frac. positive (target)</th>\n",
       "      <td>1.191***</td>\n",
       "      <td>1.178***</td>\n",
       "      <td>1.179***</td>\n",
       "      <td>1.179***</td>\n",
       "      <td>1.178***</td>\n",
       "      <td>1.179***</td>\n",
       "      <td>1.178***</td>\n",
       "      <td>1.180***</td>\n",
       "      <td>1.178***</td>\n",
       "    </tr>\n",
       "    <tr>\n",
       "      <th>Diff. frac. positive</th>\n",
       "      <td>0.501***</td>\n",
       "      <td>0.488***</td>\n",
       "      <td>0.488***</td>\n",
       "      <td>0.488***</td>\n",
       "      <td>0.488***</td>\n",
       "      <td>0.488***</td>\n",
       "      <td>0.488***</td>\n",
       "      <td>0.488***</td>\n",
       "      <td>0.488***</td>\n",
       "    </tr>\n",
       "    <tr>\n",
       "      <th>Same state</th>\n",
       "      <td>1.245***</td>\n",
       "      <td>1.243***</td>\n",
       "      <td>1.240***</td>\n",
       "      <td>1.241***</td>\n",
       "      <td>1.242***</td>\n",
       "      <td>1.239***</td>\n",
       "      <td>1.240***</td>\n",
       "      <td>1.241***</td>\n",
       "      <td>1.242***</td>\n",
       "    </tr>\n",
       "    <tr>\n",
       "      <th>Same state, Cross-group</th>\n",
       "      <td>0.811***</td>\n",
       "      <td>0.811***</td>\n",
       "      <td>0.810***</td>\n",
       "      <td>0.809***</td>\n",
       "      <td>0.812***</td>\n",
       "      <td>0.815***</td>\n",
       "      <td>0.817***</td>\n",
       "      <td>0.809***</td>\n",
       "      <td>0.814***</td>\n",
       "    </tr>\n",
       "    <tr>\n",
       "      <th>Swing state</th>\n",
       "      <td></td>\n",
       "      <td>1.018*</td>\n",
       "      <td></td>\n",
       "      <td></td>\n",
       "      <td></td>\n",
       "      <td></td>\n",
       "      <td></td>\n",
       "      <td></td>\n",
       "      <td></td>\n",
       "    </tr>\n",
       "    <tr>\n",
       "      <th>Swing state, Cross-group</th>\n",
       "      <td></td>\n",
       "      <td>0.965*</td>\n",
       "      <td></td>\n",
       "      <td></td>\n",
       "      <td></td>\n",
       "      <td></td>\n",
       "      <td></td>\n",
       "      <td></td>\n",
       "      <td></td>\n",
       "    </tr>\n",
       "    <tr>\n",
       "      <th>Clinton share</th>\n",
       "      <td></td>\n",
       "      <td></td>\n",
       "      <td>1.005</td>\n",
       "      <td></td>\n",
       "      <td></td>\n",
       "      <td></td>\n",
       "      <td></td>\n",
       "      <td></td>\n",
       "      <td></td>\n",
       "    </tr>\n",
       "    <tr>\n",
       "      <th>Clinton share, Cross-group</th>\n",
       "      <td></td>\n",
       "      <td></td>\n",
       "      <td>1.026</td>\n",
       "      <td></td>\n",
       "      <td></td>\n",
       "      <td></td>\n",
       "      <td></td>\n",
       "      <td></td>\n",
       "      <td></td>\n",
       "    </tr>\n",
       "    <tr>\n",
       "      <th>Trump share</th>\n",
       "      <td></td>\n",
       "      <td></td>\n",
       "      <td></td>\n",
       "      <td>0.997</td>\n",
       "      <td></td>\n",
       "      <td></td>\n",
       "      <td></td>\n",
       "      <td></td>\n",
       "      <td></td>\n",
       "    </tr>\n",
       "    <tr>\n",
       "      <th>Trump share, Cross-group</th>\n",
       "      <td></td>\n",
       "      <td></td>\n",
       "      <td></td>\n",
       "      <td>0.970*</td>\n",
       "      <td></td>\n",
       "      <td></td>\n",
       "      <td></td>\n",
       "      <td></td>\n",
       "      <td></td>\n",
       "    </tr>\n",
       "    <tr>\n",
       "      <th>Non-vote share</th>\n",
       "      <td></td>\n",
       "      <td></td>\n",
       "      <td></td>\n",
       "      <td></td>\n",
       "      <td>0.977*</td>\n",
       "      <td></td>\n",
       "      <td></td>\n",
       "      <td></td>\n",
       "      <td></td>\n",
       "    </tr>\n",
       "    <tr>\n",
       "      <th>Non-vote share, Cross-group</th>\n",
       "      <td></td>\n",
       "      <td></td>\n",
       "      <td></td>\n",
       "      <td></td>\n",
       "      <td>1.057***</td>\n",
       "      <td></td>\n",
       "      <td></td>\n",
       "      <td></td>\n",
       "      <td></td>\n",
       "    </tr>\n",
       "    <tr>\n",
       "      <th>Unemployment</th>\n",
       "      <td></td>\n",
       "      <td></td>\n",
       "      <td></td>\n",
       "      <td></td>\n",
       "      <td></td>\n",
       "      <td>1.020*</td>\n",
       "      <td></td>\n",
       "      <td></td>\n",
       "      <td></td>\n",
       "    </tr>\n",
       "    <tr>\n",
       "      <th>Unemployment, Cross-group</th>\n",
       "      <td></td>\n",
       "      <td></td>\n",
       "      <td></td>\n",
       "      <td></td>\n",
       "      <td></td>\n",
       "      <td>0.977</td>\n",
       "      <td></td>\n",
       "      <td></td>\n",
       "      <td></td>\n",
       "    </tr>\n",
       "    <tr>\n",
       "      <th>Gini Coefficient</th>\n",
       "      <td></td>\n",
       "      <td></td>\n",
       "      <td></td>\n",
       "      <td></td>\n",
       "      <td></td>\n",
       "      <td></td>\n",
       "      <td>1.006</td>\n",
       "      <td></td>\n",
       "      <td></td>\n",
       "    </tr>\n",
       "    <tr>\n",
       "      <th>Gini Coefficient, Cross-group</th>\n",
       "      <td></td>\n",
       "      <td></td>\n",
       "      <td></td>\n",
       "      <td></td>\n",
       "      <td></td>\n",
       "      <td></td>\n",
       "      <td>0.976</td>\n",
       "      <td></td>\n",
       "      <td></td>\n",
       "    </tr>\n",
       "    <tr>\n",
       "      <th>Median Income</th>\n",
       "      <td></td>\n",
       "      <td></td>\n",
       "      <td></td>\n",
       "      <td></td>\n",
       "      <td></td>\n",
       "      <td></td>\n",
       "      <td></td>\n",
       "      <td>1.006</td>\n",
       "      <td></td>\n",
       "    </tr>\n",
       "    <tr>\n",
       "      <th>Median Income, Cross-group</th>\n",
       "      <td></td>\n",
       "      <td></td>\n",
       "      <td></td>\n",
       "      <td></td>\n",
       "      <td></td>\n",
       "      <td></td>\n",
       "      <td></td>\n",
       "      <td>1.046*</td>\n",
       "      <td></td>\n",
       "    </tr>\n",
       "    <tr>\n",
       "      <th>High school</th>\n",
       "      <td></td>\n",
       "      <td></td>\n",
       "      <td></td>\n",
       "      <td></td>\n",
       "      <td></td>\n",
       "      <td></td>\n",
       "      <td></td>\n",
       "      <td></td>\n",
       "      <td>1.002</td>\n",
       "    </tr>\n",
       "    <tr>\n",
       "      <th>High school, Cross-group</th>\n",
       "      <td></td>\n",
       "      <td></td>\n",
       "      <td></td>\n",
       "      <td></td>\n",
       "      <td></td>\n",
       "      <td></td>\n",
       "      <td></td>\n",
       "      <td></td>\n",
       "      <td>1.007</td>\n",
       "    </tr>\n",
       "  </tbody>\n",
       "</table>\n",
       "</div>"
      ],
      "text/plain": [
       "                                      0         1         2         3  \\\n",
       "Clinton sup.                   0.909***  0.884***  0.883***  0.883***   \n",
       "Cross-group                    1.172***  1.156***  1.134***  1.166***   \n",
       "Clinton sup., Cross-group      1.104***  1.162***  1.163***  1.162***   \n",
       "Avg. score (author)            1.176***  1.174***  1.175***  1.175***   \n",
       "Avg. score (target)            1.169***  1.151***  1.151***  1.151***   \n",
       "Diff. avg. score               1.232***  1.208***  1.209***  1.209***   \n",
       "Frac. positive (author)        1.243***  1.208***  1.211***  1.211***   \n",
       "Frac. positive (target)        1.191***  1.178***  1.179***  1.179***   \n",
       "Diff. frac. positive           0.501***  0.488***  0.488***  0.488***   \n",
       "Same state                     1.245***  1.243***  1.240***  1.241***   \n",
       "Same state, Cross-group        0.811***  0.811***  0.810***  0.809***   \n",
       "Swing state                                1.018*                       \n",
       "Swing state, Cross-group                   0.965*                       \n",
       "Clinton share                                         1.005             \n",
       "Clinton share, Cross-group                            1.026             \n",
       "Trump share                                                     0.997   \n",
       "Trump share, Cross-group                                       0.970*   \n",
       "Non-vote share                                                          \n",
       "Non-vote share, Cross-group                                             \n",
       "Unemployment                                                            \n",
       "Unemployment, Cross-group                                               \n",
       "Gini Coefficient                                                        \n",
       "Gini Coefficient, Cross-group                                           \n",
       "Median Income                                                           \n",
       "Median Income, Cross-group                                              \n",
       "High school                                                             \n",
       "High school, Cross-group                                                \n",
       "\n",
       "                                      4         5         6         7  \\\n",
       "Clinton sup.                   0.883***  0.884***  0.883***  0.883***   \n",
       "Cross-group                    1.117***  1.162***  1.163***  1.122***   \n",
       "Clinton sup., Cross-group      1.165***  1.164***  1.165***  1.162***   \n",
       "Avg. score (author)            1.175***  1.174***  1.174***  1.174***   \n",
       "Avg. score (target)            1.151***  1.151***  1.151***  1.151***   \n",
       "Diff. avg. score               1.210***  1.209***  1.209***  1.209***   \n",
       "Frac. positive (author)        1.207***  1.209***  1.207***  1.212***   \n",
       "Frac. positive (target)        1.178***  1.179***  1.178***  1.180***   \n",
       "Diff. frac. positive           0.488***  0.488***  0.488***  0.488***   \n",
       "Same state                     1.242***  1.239***  1.240***  1.241***   \n",
       "Same state, Cross-group        0.812***  0.815***  0.817***  0.809***   \n",
       "Swing state                                                             \n",
       "Swing state, Cross-group                                                \n",
       "Clinton share                                                           \n",
       "Clinton share, Cross-group                                              \n",
       "Trump share                                                             \n",
       "Trump share, Cross-group                                                \n",
       "Non-vote share                   0.977*                                 \n",
       "Non-vote share, Cross-group    1.057***                                 \n",
       "Unemployment                               1.020*                       \n",
       "Unemployment, Cross-group                   0.977                       \n",
       "Gini Coefficient                                      1.006             \n",
       "Gini Coefficient, Cross-group                         0.976             \n",
       "Median Income                                                   1.006   \n",
       "Median Income, Cross-group                                     1.046*   \n",
       "High school                                                             \n",
       "High school, Cross-group                                                \n",
       "\n",
       "                                      8  \n",
       "Clinton sup.                   0.884***  \n",
       "Cross-group                    1.145***  \n",
       "Clinton sup., Cross-group      1.164***  \n",
       "Avg. score (author)            1.173***  \n",
       "Avg. score (target)            1.151***  \n",
       "Diff. avg. score               1.209***  \n",
       "Frac. positive (author)        1.208***  \n",
       "Frac. positive (target)        1.178***  \n",
       "Diff. frac. positive           0.488***  \n",
       "Same state                     1.242***  \n",
       "Same state, Cross-group        0.814***  \n",
       "Swing state                              \n",
       "Swing state, Cross-group                 \n",
       "Clinton share                            \n",
       "Clinton share, Cross-group               \n",
       "Trump share                              \n",
       "Trump share, Cross-group                 \n",
       "Non-vote share                           \n",
       "Non-vote share, Cross-group              \n",
       "Unemployment                             \n",
       "Unemployment, Cross-group                \n",
       "Gini Coefficient                         \n",
       "Gini Coefficient, Cross-group            \n",
       "Median Income                            \n",
       "Median Income, Cross-group               \n",
       "High school                       1.002  \n",
       "High school, Cross-group          1.007  "
      ]
     },
     "execution_count": 35,
     "metadata": {},
     "output_type": "execute_result"
    }
   ],
   "source": [
    "table2"
   ]
  }
 ],
 "metadata": {
  "kernelspec": {
   "display_name": "Python 3",
   "language": "python",
   "name": "python3"
  },
  "language_info": {
   "codemirror_mode": {
    "name": "ipython",
    "version": 3
   },
   "file_extension": ".py",
   "mimetype": "text/x-python",
   "name": "python",
   "nbconvert_exporter": "python",
   "pygments_lexer": "ipython3",
   "version": "3.7.6"
  }
 },
 "nbformat": 4,
 "nbformat_minor": 4
}
