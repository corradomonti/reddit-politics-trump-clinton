{
 "cells": [
  {
   "cell_type": "code",
   "execution_count": 1,
   "metadata": {},
   "outputs": [],
   "source": [
    "from bs4 import BeautifulSoup\n",
    "import requests\n",
    "import pandas as pd"
   ]
  },
  {
   "cell_type": "code",
   "execution_count": 2,
   "metadata": {},
   "outputs": [],
   "source": [
    "wiki_xml = requests.get(\"https://en.wikipedia.org/w/index.php?title=List_of_U.S._states_and_territories_by_income_inequality&oldid=949833744\").text\n",
    "soup = BeautifulSoup(wiki_xml)\n",
    "gini_df = pd.read_html(str(soup.find('table', class_='wikitable')))[0]\n",
    "\n",
    "gini_df['state'] = gini_df['State or federal district']\n",
    "gini_df = gini_df[['state', 'Gini Coefficient']].copy()\n",
    "\n",
    "gini_df.state.replace('District of Columbia', 'District Of Columbia', inplace=True)"
   ]
  },
  {
   "cell_type": "code",
   "execution_count": 3,
   "metadata": {},
   "outputs": [],
   "source": [
    "wiki_xml = requests.get(\"https://en.wikipedia.org/w/index.php?title=List_of_U.S._states_and_territories_by_income&oldid=947939623\").text\n",
    "soup = BeautifulSoup(wiki_xml)\n",
    "income_df = pd.read_html(str(soup.find('table', class_='wikitable')))[0]\n",
    "income_df = income_df[income_df['2016'] != '—']\n",
    "\n",
    "income_df['state'] = income_df['State or territory']\n",
    "income_df['income'] = income_df['2016'].apply(lambda x: x[1:].replace(',', '')).astype(float)\n",
    "income_df = income_df[['state', 'income']].copy()\n",
    "\n",
    "income_df.state.replace('Washington, D.C.', 'District Of Columbia', inplace=True)"
   ]
  },
  {
   "cell_type": "code",
   "execution_count": 4,
   "metadata": {},
   "outputs": [],
   "source": [
    "votes_state = pd.read_csv(\"../data/raw/2016ElectionResultsByState.csv\")\n",
    "votes_state.state.replace('District of Columbia', 'District Of Columbia', inplace=True)\n",
    "votes_state = votes_state[['state', 'clintonVotes', 'trumpVotes', 'totalVotes']].copy()\n",
    "votes_state['swing'] = (\n",
    "    ((votes_state.clintonVotes / votes_state.trumpVotes) < 1.04)\n",
    "    &\n",
    "    ((votes_state.trumpVotes / votes_state.clintonVotes) < 1.04)\n",
    ")"
   ]
  },
  {
   "cell_type": "code",
   "execution_count": 5,
   "metadata": {},
   "outputs": [],
   "source": [
    "education_xml = requests.get(\"https://en.wikipedia.org/w/index.php?title=List_of_U.S._states_and_territories_by_educational_attainment&oldid=961454186\").text\n",
    "soup = BeautifulSoup(education_xml)\n",
    "education = pd.read_html(str(soup.find('table', class_='wikitable')))[0]\n",
    "education.columns = ['state'] + list(education.columns[1:])\n",
    "education.state.replace('District of Columbia', 'District Of Columbia', inplace=True)\n",
    "education['with_diploma'] = education['% High school graduate or higher'].apply(lambda x: float(x[:-1])/100.)\n",
    "education = education[['state', 'with_diploma']].copy()"
   ]
  },
  {
   "cell_type": "code",
   "execution_count": 6,
   "metadata": {},
   "outputs": [],
   "source": [
    "unemp = pd.read_csv(\"../data/raw/unemployment.csv\")\n",
    "unemp['unemployment2016'] = unemp.unemployment2016 / 100."
   ]
  },
  {
   "cell_type": "code",
   "execution_count": 7,
   "metadata": {},
   "outputs": [],
   "source": [
    "(votes_state\n",
    "    .merge(income_df, how='left')\n",
    "    .merge(gini_df, how='left')\n",
    "    .merge(education, how='left')\n",
    "    .merge(unemp, how='left')\n",
    ").to_csv(\"../data/processed/states-extra.csv\", index=False)"
   ]
  }
 ],
 "metadata": {
  "kernelspec": {
   "display_name": "Python 3",
   "language": "python",
   "name": "python3"
  },
  "language_info": {
   "codemirror_mode": {
    "name": "ipython",
    "version": 3
   },
   "file_extension": ".py",
   "mimetype": "text/x-python",
   "name": "python",
   "nbconvert_exporter": "python",
   "pygments_lexer": "ipython3",
   "version": "3.7.6"
  }
 },
 "nbformat": 4,
 "nbformat_minor": 4
}
